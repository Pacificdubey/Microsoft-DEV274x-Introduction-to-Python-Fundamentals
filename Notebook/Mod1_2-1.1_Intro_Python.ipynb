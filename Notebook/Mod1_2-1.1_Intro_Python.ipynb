2-1.1 Intro Python
Sequence: String
Accessing String Characters with index
Accessing sub-strings with index slicing
Iterating through Characters of a String
More String Methods
> Student will be able to

Work with String Characters by index
Slice strings into substrings
Iterate through String Characters
Use String Methods
 
Concepts

Accessing a single String Character
view video

addressing a string index
Strings are sequences of characters. Another common sequence type used in this course is a list. Sequences index items counting from 0 for the first item.

string with index for each letter

# assign string to student_name
student_name = "Alton"
# first character is at index 0
student_name[0]
 
Examples

# [ ] review and run example - note the first element is always index = 0
student_name = "Alton"
print(student_name[0], "<-- first character at index 0")
print(student_name[1])
print(student_name[2])
print(student_name[3])
print(student_name[4])
# [ ] review and run example
student_name = "Jin"
if student_name[0].lower() == "a":
    print('Winner! Name starts with A:', student_name)
elif student_name[0].lower() == "j":
    print('Winner! Name starts with J:', student_name)
else:
    print('Not a match, try again tomorrow:', student_name)
# [ ] review and run ERROR example
# cannot index out of range
student_name = "Tobias"
print(student_name[6])
 
Task 1

Work with individual string characters
Remember: the first character in a string is at index 0
# [ ] assign a string 5 or more letters long to the variable: street_name
# [ ] print the 1st, 3rd and 5th characters
# [ ] Create an input variable: team_name - ask that second letter = "i", "o", or "u"
# [ ] Test if team_name 2nd character = "i", "o", or "u" and print a message
# note: use if, elif and else
 
Concepts

Using a negative index
view video

Access the end of a string using -1
Strings assign an index number address to each string character

first character in a string is index 0
last character in a string is index -1
negative string index counts from the end

To access the last character in a string

student_name[-1]
 
Examples

access the last character with the -1 index
negative index counts back from the last character in a string

# [ ] review and run example
student_name = "Joana"

# get last letter
end_letter = student_name[-1]
print(student_name,"ends with", "'" + end_letter + "'")
# [ ] review and run example
# get second to last letter
second_last_letter = student_name[-2]
print(student_name,"has 2nd to last letter of", "'" + second_last_letter + "'")
# [ ] review and run example
# you can get to the same letter with index counting + or -
print("for", student_name)
print("index 3 =", "'" + student_name[3] + "'")
print("index -2 =","'" + student_name[-2] + "'")
 
Task 2

# [ ] assign a string 5 or more letters long to the variable: street_name
# [ ] print the last 3 characters of street_name
# [ ] create and assign string variable: first_name

# [ ] print the first and last letters of name
 
Task 3

Fix the Errors
# [ ] Review, Run, Fix the error using string index
shoe = "tennis"
# print the last letter
print(shoe(-1))
Terms of use   Privacy & cookies   © 2017 Microsoft
